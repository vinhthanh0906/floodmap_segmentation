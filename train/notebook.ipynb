{
 "cells": [
  {
   "cell_type": "code",
   "execution_count": 14,
   "id": "84ed06cd",
   "metadata": {},
   "outputs": [
    {
     "name": "stdout",
     "output_type": "stream",
     "text": [
      "Collecting matplotlib\n",
      "  Using cached matplotlib-3.10.6-cp312-cp312-win_amd64.whl.metadata (11 kB)\n",
      "Collecting contourpy>=1.0.1 (from matplotlib)\n",
      "  Using cached contourpy-1.3.3-cp312-cp312-win_amd64.whl.metadata (5.5 kB)\n",
      "Collecting cycler>=0.10 (from matplotlib)\n",
      "  Using cached cycler-0.12.1-py3-none-any.whl.metadata (3.8 kB)\n",
      "Collecting fonttools>=4.22.0 (from matplotlib)\n",
      "  Downloading fonttools-4.60.1-cp312-cp312-win_amd64.whl.metadata (114 kB)\n",
      "Collecting kiwisolver>=1.3.1 (from matplotlib)\n",
      "  Using cached kiwisolver-1.4.9-cp312-cp312-win_amd64.whl.metadata (6.4 kB)\n",
      "Requirement already satisfied: numpy>=1.23 in c:\\users\\pc\\anaconda3\\envs\\image_compression\\lib\\site-packages (from matplotlib) (2.2.0)\n",
      "Requirement already satisfied: packaging>=20.0 in c:\\users\\pc\\anaconda3\\envs\\image_compression\\lib\\site-packages (from matplotlib) (24.2)\n",
      "Requirement already satisfied: pillow>=8 in c:\\users\\pc\\anaconda3\\envs\\image_compression\\lib\\site-packages (from matplotlib) (11.3.0)\n",
      "Collecting pyparsing>=2.3.1 (from matplotlib)\n",
      "  Using cached pyparsing-3.2.5-py3-none-any.whl.metadata (5.0 kB)\n",
      "Requirement already satisfied: python-dateutil>=2.7 in c:\\users\\pc\\anaconda3\\envs\\image_compression\\lib\\site-packages (from matplotlib) (2.9.0.post0)\n",
      "Requirement already satisfied: six>=1.5 in c:\\users\\pc\\anaconda3\\envs\\image_compression\\lib\\site-packages (from python-dateutil>=2.7->matplotlib) (1.17.0)\n",
      "Using cached matplotlib-3.10.6-cp312-cp312-win_amd64.whl (8.1 MB)\n",
      "Using cached contourpy-1.3.3-cp312-cp312-win_amd64.whl (226 kB)\n",
      "Using cached cycler-0.12.1-py3-none-any.whl (8.3 kB)\n",
      "Downloading fonttools-4.60.1-cp312-cp312-win_amd64.whl (2.3 MB)\n",
      "   ---------------------------------------- 0.0/2.3 MB ? eta -:--:--\n",
      "   ---------------------------------------- 2.3/2.3 MB 16.0 MB/s eta 0:00:00\n",
      "Using cached kiwisolver-1.4.9-cp312-cp312-win_amd64.whl (73 kB)\n",
      "Using cached pyparsing-3.2.5-py3-none-any.whl (113 kB)\n",
      "Installing collected packages: pyparsing, kiwisolver, fonttools, cycler, contourpy, matplotlib\n",
      "Successfully installed contourpy-1.3.3 cycler-0.12.1 fonttools-4.60.1 kiwisolver-1.4.9 matplotlib-3.10.6 pyparsing-3.2.5\n"
     ]
    }
   ],
   "source": [
    "!pip install matplotlib"
   ]
  },
  {
   "cell_type": "code",
   "execution_count": 3,
   "id": "2925e258",
   "metadata": {},
   "outputs": [],
   "source": [
    "import tensorflow as tf\n",
    "import glob\n",
    "import os\n",
    "import numpy as np"
   ]
  },
  {
   "cell_type": "code",
   "execution_count": 10,
   "id": "254eb5c4",
   "metadata": {},
   "outputs": [
    {
     "data": {
      "text/plain": [
       "(87, 86)"
      ]
     },
     "execution_count": 10,
     "metadata": {},
     "output_type": "execute_result"
    }
   ],
   "source": [
    "images = r\"D:\\WORK\\Python\\Project\\CV\\flood_map_segmentation\\floodmap_segmentation\\data\\Image\\*.jpg\"\n",
    "masks = r\"D:\\WORK\\Python\\Project\\CV\\flood_map_segmentation\\floodmap_segmentation\\data\\Mask\\*.png\"\n",
    "\n",
    "len(images), len(masks)"
   ]
  },
  {
   "cell_type": "code",
   "execution_count": 15,
   "id": "86feb636",
   "metadata": {},
   "outputs": [],
   "source": [
    "import cv2\n",
    "import matplotlib.pyplot as plt\n",
    "import keras\n",
    "from tensorflow.keras.preprocessing.image import ImageDataGenerator"
   ]
  },
  {
   "cell_type": "code",
   "execution_count": null,
   "id": "e894689c",
   "metadata": {},
   "outputs": [],
   "source": [
    "class CustomDataGenerator(keras.utils.Sequence):\n",
    "    def __init__(self, images, masks, batch_size=8, img_size=(512, 512), shuffle=True):\n",
    "        self.batch_size = batch_size\n",
    "        self.img_size = img_size\n",
    "        self.shuffle = shuffle\n",
    "        self.images = images   # list of image file paths\n",
    "        self.masks = masks     # list of mask file paths\n",
    "\n",
    "        self.on_epoch_end()\n",
    "        \n",
    "        self.datagen = ImageDataGenerator(\n",
    "            rotation_range=5,\n",
    "            width_shift_range=0.1,\n",
    "            height_shift_range=0.1,\n",
    "            zoom_range=0.05,\n",
    "            horizontal_flip=True,\n",
    "            vertical_flip=True,\n",
    "            fill_mode='constant',\n",
    "            cval=0.0\n",
    "        )\n",
    "\n",
    "\n",
    "\n",
    "    def random_crop(self, image, mask, crop_size=512):\n",
    "        img_height, img_width = image.shape[0], image.shape[1]\n",
    "        mask_height, mask_width = mask.shape[0], mask.shape[1]\n",
    "        \n",
    "        \n",
    "        # Random x and y for cropping the image\n",
    "        x = np.random.randint(0, img_width - crop_size)\n",
    "        y = np.random.randint(0, img_height - crop_size)\n",
    "        \n",
    "        image_corpped = image[y:y+crop_size, x:x+crop_size]\n",
    "        mask_crop = mask[y:y+crop_size, x:x+crop_size]\n",
    "        \n",
    "        return image_corpped, mask_crop\n",
    "        \n",
    "        \n",
    "    def data_augmentation(self, image, mask):\n",
    "       \n",
    "\n",
    "    def __len__(self):\n",
    "        \"\"\"\n",
    "        Number of batches per epoch.\n",
    "        \"\"\"\n",
    "        return int(np.ceil(len(self.images) / float(self.batch_size)))\n",
    "\n",
    "    def data_normalization(self, image, mask):\n",
    "        \"\"\"\n",
    "        Normalize image and mask.\n",
    "        \"\"\"\n",
    "        pass\n",
    "    \n",
    "    def data_preprocessing(self, image, mask):\n",
    "        pass\n",
    "\n",
    "    def on_epoch_end(self):\n",
    "        pass\n",
    "    \n",
    "\n",
    "    def __getitem__(self, index):\n",
    "        \"\"\"\n",
    "        Generate one batch of data.\n",
    "        \"\"\"\n",
    "        start_index = index * self.batch_size\n",
    "        end_index = min((index + 1) * self.batch_size, len(self.images))\n",
    "        indexes = self.indexes[start_index:end_index]\n",
    "        \n",
    "        batch_images = []\n",
    "        batch_masks = []"
   ]
  }
 ],
 "metadata": {
  "kernelspec": {
   "display_name": "image_compression",
   "language": "python",
   "name": "python3"
  },
  "language_info": {
   "codemirror_mode": {
    "name": "ipython",
    "version": 3
   },
   "file_extension": ".py",
   "mimetype": "text/x-python",
   "name": "python",
   "nbconvert_exporter": "python",
   "pygments_lexer": "ipython3",
   "version": "3.12.8"
  }
 },
 "nbformat": 4,
 "nbformat_minor": 5
}
